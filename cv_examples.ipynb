{
 "cells": [
  {
   "cell_type": "code",
   "execution_count": 1,
   "metadata": {},
   "outputs": [
    {
     "name": "stdout",
     "output_type": "stream",
     "text": [
      "['.ipynb_checkpoints', 'README.md', 'code', 'data', '.git', 'cv_examples.ipynb']\n",
      "True\n"
     ]
    }
   ],
   "source": [
    "import cv2 as cv\n",
    "from matplotlib import  pyplot as plt\n",
    "import os\n",
    "print (os.listdir(\".\"))\n",
    "print(os.path.exists(\"./data/test.png\"))"
   ]
  },
  {
   "cell_type": "code",
   "execution_count": 2,
   "metadata": {},
   "outputs": [],
   "source": [
    "src = cv.imread(\"./data/test.png\")\n",
    "cv.imshow(\"yuantu\",src)\n"
   ]
  }
 ],
 "metadata": {
  "kernelspec": {
   "display_name": "Python 3",
   "language": "python",
   "name": "python3"
  },
  "language_info": {
   "codemirror_mode": {
    "name": "ipython",
    "version": 3
   },
   "file_extension": ".py",
   "mimetype": "text/x-python",
   "name": "python",
   "nbconvert_exporter": "python",
   "pygments_lexer": "ipython3",
   "version": "3.7.4"
  }
 },
 "nbformat": 4,
 "nbformat_minor": 2
}
